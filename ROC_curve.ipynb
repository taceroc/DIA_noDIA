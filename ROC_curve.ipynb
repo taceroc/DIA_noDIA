{
 "cells": [
  {
   "cell_type": "code",
   "execution_count": 1,
   "id": "59321e90-4df6-44fc-b691-531234dfa202",
   "metadata": {},
   "outputs": [],
   "source": [
    "import data_utils\n",
    "import model_utils\n",
    "import plot_utils\n",
    "import matplotlib.pyplot as plt\n",
    "import tensorflow as tf\n",
    "from tensorflow import keras\n",
    "import pandas as pd\n",
    "import numpy as np\n",
    "import seaborn as sns\n",
    "\n",
    "from sklearn.metrics import roc_curve, roc_auc_score\n"
   ]
  },
  {
   "cell_type": "code",
   "execution_count": 2,
   "id": "a48cdd4b-38e2-49e9-8c32-88e5629deb94",
   "metadata": {},
   "outputs": [],
   "source": [
    "def load_model(model_name, train, test, train_targ, test_targ):\n",
    "    \"\"\"\n",
    "        Loaded previous train CNN model\n",
    "    \"\"\"\n",
    "    print(model_name)\n",
    "    new_model = keras.models.load_model(\"../outputs/model_checkpoint/model_checkpoint_%s.h5\"%model_name)\n",
    "\n",
    "    # -- feautres need to have an extra axis on the end (for mini-batching)\n",
    "    feat_tr2 = train.reshape(len(train), train.shape[1], train.shape[2], 1)\n",
    "    feat_te2 = test.reshape(len(test), test.shape[1], test.shape[2], 1)\n",
    "\n",
    "    # -- print the accuracy\n",
    "    loss_tr, acc_tr = new_model.evaluate(feat_tr2, train_targ, verbose=0)\n",
    "    loss_te, acc_te = new_model.evaluate(feat_te2, test_targ, verbose=0)\n",
    "        \n",
    "    print(\"Training accuracy : {0:.4f}\".format(acc_tr))\n",
    "    print(\"Testing accuracy  : {0:.4f}\".format(acc_te))\n",
    "\n",
    "    return acc_tr, acc_te, new_model"
   ]
  },
  {
   "cell_type": "code",
   "execution_count": 3,
   "id": "892fa187-1112-4d2d-84af-8e2765048b13",
   "metadata": {},
   "outputs": [],
   "source": [
    "def create_confusion_matrix(model_name, y_pred, targ):\n",
    "    \"\"\"\n",
    "        Parameters\n",
    "            - model_name: name of the model trained and specify which data is being predicted to create CM\n",
    "            - y_pred: array with the probability prediction\n",
    "        Returns\n",
    "            - shows the confusion matrix plot\n",
    "\n",
    "    \"\"\"\n",
    "    # -- confusion matrix for some data\n",
    "    con_mat = tf.math.confusion_matrix(labels=targ, predictions=np.argmax(y_pred,axis=1)).numpy()\n",
    "    con_mat.flatten()\n",
    "    con_mat_norm = np.around(con_mat.astype('float') / con_mat.sum(axis=1)[:, np.newaxis], decimals=2)\n",
    "    con_mat_df = pd.DataFrame(con_mat_norm,\n",
    "                     index = [0,1], \n",
    "                     columns = [0,1])\n",
    "    con_mat_norm.flatten()\n",
    "    labels = [f\"{v1}\\n{v2*100}%\" for v1, v2 in\n",
    "          zip(con_mat.flatten(),con_mat_norm.flatten())]\n",
    "    labels = np.asarray(labels).reshape(2,2)\n",
    "    categories = [\"0: Real\", \"1: Bogus\"]\n",
    "    \n",
    "    figure = plt.figure(figsize=(4, 5))\n",
    "    sns.heatmap(con_mat, annot=labels,cbar=False,fmt='',xticklabels=categories,yticklabels=categories,cmap='Pastel2_r')#plt.cm.Blues)\n",
    "    plt.tight_layout()\n",
    "    plt.ylabel('True label')\n",
    "    plt.xlabel('Predicted label')\n",
    "#     plt.savefig(\"../outputs/confusion_matrix/more_data/confusionmatrix_model_more_data%s.pdf\"%model_name,bbox_inches=\"tight\")\n",
    "    plt.show()\n",
    "    \n",
    "    return con_mat_df"
   ]
  },
  {
   "cell_type": "code",
   "execution_count": 4,
   "id": "115e720c-d40b-4f5c-933b-f0ce7fa34f0c",
   "metadata": {},
   "outputs": [],
   "source": [
    "def datas(df_tr, df_te, model_name):\n",
    "    print(model_name)\n",
    "    div = model_name.split(\"_\")[1]\n",
    "    if div[0:2] == \"3D\" or div[0:2] == \"2D\":\n",
    "        data_location = \"../data/data_split/\"\n",
    "    if div[0:2] == \"n3\" or div[0:2] == \"n2\":\n",
    "        data_location = \"../data/data_split_n/\"\n",
    "    if div[0:2] == \"3s\":\n",
    "        data_location = \"../data/data_split_3s/\"\n",
    "    print(data_location)\n",
    "    #data_location = \"../data/data_split_n/\"                                                                                                                         \n",
    "    if div[-3:] == \"3DH\":\n",
    "        ddhs = 0\n",
    "    if div[-3:] == \"2DH\":\n",
    "        ddhs = 1\n",
    "\n",
    "    train, test, train_targ, test_targ, train_ID, test_ID = data_utils.read_data_folders(data_location, 1,\n",
    "                                                                          2000, ddh = ddhs)\n",
    "    \n",
    "    print(train.shape, test.shape)\n",
    "    acc_tr, acc_te, model = load_model(model_name, train, test, train_targ, test_targ)\n",
    "    df_pred_te, y_pred_te = model_utils.predict_data(test, model, 1, test_ID,test_targ)\n",
    "    \n",
    "    \n",
    "    con_mat_df_te = create_confusion_matrix(model_name, y_pred_te, test_targ)\n",
    "    \n",
    "    return df_pred_te,con_mat_df_te,y_pred_te"
   ]
  },
  {
   "cell_type": "code",
   "execution_count": 5,
   "id": "aea37b29-53e3-46f5-8b59-ec8c1057fb52",
   "metadata": {},
   "outputs": [
    {
     "name": "stdout",
     "output_type": "stream",
     "text": [
      "CCC_3s2DH\n",
      "../data/data_split_3s/\n",
      "Done with 0\n",
      "Done with 1\n",
      "Done with 2\n",
      "Done with 3\n",
      "Done with 4\n",
      "Done with 5\n",
      "Done with 6\n",
      "Done with 7\n",
      "Done with 8\n",
      "Done with 9\n",
      "(10, 51, 102) (20000, 51, 102)\n",
      "CCC_3s2DH\n",
      "Training accuracy : 0.8000\n",
      "Testing accuracy  : 0.9155\n"
     ]
    },
    {
     "data": {
      "image/png": "[encoded data removed]",
      "text/plain": [
       "<Figure size 288x360 with 1 Axes>"
      ]
     },
     "metadata": {
      "needs_background": "light"
     },
     "output_type": "display_data"
    }
   ],
   "source": [
    "df_tr = pd.DataFrame()\n",
    "df_te = pd.DataFrame()\n",
    "\n",
    "df_te,con_mat_df_te, y_pred_test = datas(df_tr, df_te, \"CCC_3s2DH\")"
   ]
  },
  {
   "cell_type": "code",
   "execution_count": 6,
   "id": "588f9337-ab3b-4c7e-9588-1e97d62a69ca",
   "metadata": {},
   "outputs": [
    {
     "data": {
      "text/html": [
       "<div>\n",
       "<style scoped>\n",
       "    .dataframe tbody tr th:only-of-type {\n",
       "        vertical-align: middle;\n",
       "    }\n",
       "\n",
       "    .dataframe tbody tr th {\n",
       "        vertical-align: top;\n",
       "    }\n",
       "\n",
       "    .dataframe thead th {\n",
       "        text-align: right;\n",
       "    }\n",
       "</style>\n",
       "<table border=\"1\" class=\"dataframe\">\n",
       "  <thead>\n",
       "    <tr style=\"text-align: right;\">\n",
       "      <th></th>\n",
       "      <th>ID</th>\n",
       "      <th>OBJECT_TYPE</th>\n",
       "      <th>predicted_float_Real</th>\n",
       "      <th>predicted_float_Bogus</th>\n",
       "      <th>predicted</th>\n",
       "    </tr>\n",
       "  </thead>\n",
       "  <tbody>\n",
       "    <tr>\n",
       "      <th>0</th>\n",
       "      <td>7956414</td>\n",
       "      <td>1</td>\n",
       "      <td>0.154537</td>\n",
       "      <td>0.845463</td>\n",
       "      <td>1</td>\n",
       "    </tr>\n",
       "    <tr>\n",
       "      <th>1</th>\n",
       "      <td>9152143</td>\n",
       "      <td>0</td>\n",
       "      <td>0.937056</td>\n",
       "      <td>0.062945</td>\n",
       "      <td>0</td>\n",
       "    </tr>\n",
       "    <tr>\n",
       "      <th>2</th>\n",
       "      <td>10595982</td>\n",
       "      <td>1</td>\n",
       "      <td>0.019109</td>\n",
       "      <td>0.980891</td>\n",
       "      <td>1</td>\n",
       "    </tr>\n",
       "    <tr>\n",
       "      <th>3</th>\n",
       "      <td>9482134</td>\n",
       "      <td>0</td>\n",
       "      <td>0.294298</td>\n",
       "      <td>0.705702</td>\n",
       "      <td>1</td>\n",
       "    </tr>\n",
       "    <tr>\n",
       "      <th>4</th>\n",
       "      <td>9238157</td>\n",
       "      <td>0</td>\n",
       "      <td>0.989753</td>\n",
       "      <td>0.010247</td>\n",
       "      <td>0</td>\n",
       "    </tr>\n",
       "    <tr>\n",
       "      <th>...</th>\n",
       "      <td>...</td>\n",
       "      <td>...</td>\n",
       "      <td>...</td>\n",
       "      <td>...</td>\n",
       "      <td>...</td>\n",
       "    </tr>\n",
       "    <tr>\n",
       "      <th>19995</th>\n",
       "      <td>8763685</td>\n",
       "      <td>1</td>\n",
       "      <td>0.016201</td>\n",
       "      <td>0.983799</td>\n",
       "      <td>1</td>\n",
       "    </tr>\n",
       "    <tr>\n",
       "      <th>19996</th>\n",
       "      <td>11377777</td>\n",
       "      <td>0</td>\n",
       "      <td>0.996489</td>\n",
       "      <td>0.003511</td>\n",
       "      <td>0</td>\n",
       "    </tr>\n",
       "    <tr>\n",
       "      <th>19997</th>\n",
       "      <td>9074085</td>\n",
       "      <td>1</td>\n",
       "      <td>0.006779</td>\n",
       "      <td>0.993221</td>\n",
       "      <td>1</td>\n",
       "    </tr>\n",
       "    <tr>\n",
       "      <th>19998</th>\n",
       "      <td>9398109</td>\n",
       "      <td>1</td>\n",
       "      <td>0.027539</td>\n",
       "      <td>0.972461</td>\n",
       "      <td>1</td>\n",
       "    </tr>\n",
       "    <tr>\n",
       "      <th>19999</th>\n",
       "      <td>8672394</td>\n",
       "      <td>1</td>\n",
       "      <td>0.024661</td>\n",
       "      <td>0.975339</td>\n",
       "      <td>1</td>\n",
       "    </tr>\n",
       "  </tbody>\n",
       "</table>\n",
       "<p>20000 rows × 5 columns</p>\n",
       "</div>"
      ],
      "text/plain": [
       "             ID  OBJECT_TYPE  predicted_float_Real  predicted_float_Bogus  \\\n",
       "0       7956414            1              0.154537               0.845463   \n",
       "1       9152143            0              0.937056               0.062945   \n",
       "2      10595982            1              0.019109               0.980891   \n",
       "3       9482134            0              0.294298               0.705702   \n",
       "4       9238157            0              0.989753               0.010247   \n",
       "...         ...          ...                   ...                    ...   \n",
       "19995   8763685            1              0.016201               0.983799   \n",
       "19996  11377777            0              0.996489               0.003511   \n",
       "19997   9074085            1              0.006779               0.993221   \n",
       "19998   9398109            1              0.027539               0.972461   \n",
       "19999   8672394            1              0.024661               0.975339   \n",
       "\n",
       "       predicted  \n",
       "0              1  \n",
       "1              0  \n",
       "2              1  \n",
       "3              1  \n",
       "4              0  \n",
       "...          ...  \n",
       "19995          1  \n",
       "19996          0  \n",
       "19997          1  \n",
       "19998          1  \n",
       "19999          1  \n",
       "\n",
       "[20000 rows x 5 columns]"
      ]
     },
     "execution_count": 6,
     "metadata": {},
     "output_type": "execute_result"
    }
   ],
   "source": [
    "df_te"
   ]
  },
  {
   "cell_type": "code",
   "execution_count": 7,
   "id": "168bc386-160f-4868-9293-4051b4766bed",
   "metadata": {},
   "outputs": [
    {
     "data": {
      "text/html": [
       "<div>\n",
       "<style scoped>\n",
       "    .dataframe tbody tr th:only-of-type {\n",
       "        vertical-align: middle;\n",
       "    }\n",
       "\n",
       "    .dataframe tbody tr th {\n",
       "        vertical-align: top;\n",
       "    }\n",
       "\n",
       "    .dataframe thead th {\n",
       "        text-align: right;\n",
       "    }\n",
       "</style>\n",
       "<table border=\"1\" class=\"dataframe\">\n",
       "  <thead>\n",
       "    <tr style=\"text-align: right;\">\n",
       "      <th></th>\n",
       "      <th>0</th>\n",
       "      <th>1</th>\n",
       "    </tr>\n",
       "  </thead>\n",
       "  <tbody>\n",
       "    <tr>\n",
       "      <th>0</th>\n",
       "      <td>0.91</td>\n",
       "      <td>0.09</td>\n",
       "    </tr>\n",
       "    <tr>\n",
       "      <th>1</th>\n",
       "      <td>0.08</td>\n",
       "      <td>0.92</td>\n",
       "    </tr>\n",
       "  </tbody>\n",
       "</table>\n",
       "</div>"
      ],
      "text/plain": [
       "      0     1\n",
       "0  0.91  0.09\n",
       "1  0.08  0.92"
      ]
     },
     "execution_count": 7,
     "metadata": {},
     "output_type": "execute_result"
    }
   ],
   "source": [
    "con_mat_df_te"
   ]
  },
  {
   "cell_type": "code",
   "execution_count": 8,
   "id": "a367968f-f631-49dd-b562-92294b51f159",
   "metadata": {},
   "outputs": [],
   "source": [
    "test_targ = df_te[\"OBJECT_TYPE\"].to_numpy()\n",
    "y_pred_test = df_te[\"predicted_float_Bogus\"].to_numpy()"
   ]
  },
  {
   "cell_type": "code",
   "execution_count": 9,
   "id": "eedb21b5-fe4c-4320-b7f2-834d53dcefc1",
   "metadata": {},
   "outputs": [],
   "source": [
    "false_positive_rate1, true_positive_rate1, threshold1 = roc_curve(test_targ, y_pred_test)"
   ]
  },
  {
   "cell_type": "code",
   "execution_count": 10,
   "id": "c6fd51c8-72c3-466a-be88-df2323cdf9d9",
   "metadata": {},
   "outputs": [
    {
     "data": {
      "image/png": "[encoded data removed]",
      "text/plain": [
       "<Figure size 504x360 with 1 Axes>"
      ]
     },
     "metadata": {
      "needs_background": "light"
     },
     "output_type": "display_data"
    }
   ],
   "source": [
    "plt.subplots(1, figsize=(7,5))\n",
    "plt.title('ROC curve for test data set',fontsize = 15)\n",
    "plt.plot(false_positive_rate1, true_positive_rate1, color=\"#1a7636\")\n",
    "plt.plot([0, 1], ls=\"--\", color = \"#b3e2cd\")\n",
    "# plt.plot([0, 0], [1, 0] , c=\".7\"), plt.plot([1, 1] , c=\".7\")\n",
    "plt.ylabel('True Positive Rate',fontsize = 15)\n",
    "plt.xlabel('False Positive Rate',fontsize = 15)\n",
    "plt.xticks(fontsize = 15)\n",
    "plt.yticks(fontsize = 15)\n",
    "plt.xlim(-0.01,1)\n",
    "plt.ylim(-0.01,1.01)\n",
    "# plt.savefig(\"ROC.pdf\")\n",
    "plt.show()"
   ]
  },
  {
   "cell_type": "code",
   "execution_count": 11,
   "id": "b159b4a6-8bc6-4973-883e-995a8e8504e7",
   "metadata": {},
   "outputs": [
    {
     "data": {
      "text/plain": [
       "0.9726427955876836"
      ]
     },
     "execution_count": 11,
     "metadata": {},
     "output_type": "execute_result"
    }
   ],
   "source": [
    "roc_auc_score(test_targ, y_pred_test)"
   ]
  },
  {
   "cell_type": "code",
   "execution_count": 12,
   "id": "f64889df-dcfb-42c1-8c86-d4f4cc4eca0b",
   "metadata": {},
   "outputs": [
    {
     "data": {
      "text/plain": [
       "1475"
      ]
     },
     "execution_count": 12,
     "metadata": {},
     "output_type": "execute_result"
    }
   ],
   "source": [
    "np.argmax(true_positive_rate1-false_positive_rate1) "
   ]
  },
  {
   "cell_type": "code",
   "execution_count": 13,
   "id": "2ec209ec-0a38-40aa-8727-71df089427fd",
   "metadata": {},
   "outputs": [
    {
     "data": {
      "text/plain": [
       "0.4974047"
      ]
     },
     "execution_count": 13,
     "metadata": {},
     "output_type": "execute_result"
    }
   ],
   "source": [
    "threshold1[1520]"
   ]
  },
  {
   "cell_type": "code",
   "execution_count": 14,
   "id": "1a536e87-9657-4457-90fe-0ef6b89c84bf",
   "metadata": {},
   "outputs": [],
   "source": [
    "df_te[\"new_pred\"] = [1 if i >= 0.4974047 else 0 for i in df_te[\"predicted_float_Bogus\"] ]"
   ]
  },
  {
   "cell_type": "code",
   "execution_count": 15,
   "id": "391f778a-3f76-4d5b-a121-dd289e1aefad",
   "metadata": {},
   "outputs": [
    {
     "data": {
      "text/html": [
       "<div>\n",
       "<style scoped>\n",
       "    .dataframe tbody tr th:only-of-type {\n",
       "        vertical-align: middle;\n",
       "    }\n",
       "\n",
       "    .dataframe tbody tr th {\n",
       "        vertical-align: top;\n",
       "    }\n",
       "\n",
       "    .dataframe thead th {\n",
       "        text-align: right;\n",
       "    }\n",
       "</style>\n",
       "<table border=\"1\" class=\"dataframe\">\n",
       "  <thead>\n",
       "    <tr style=\"text-align: right;\">\n",
       "      <th></th>\n",
       "      <th>ID</th>\n",
       "      <th>OBJECT_TYPE</th>\n",
       "      <th>predicted_float_Real</th>\n",
       "      <th>predicted_float_Bogus</th>\n",
       "      <th>predicted</th>\n",
       "      <th>new_pred</th>\n",
       "    </tr>\n",
       "  </thead>\n",
       "  <tbody>\n",
       "    <tr>\n",
       "      <th>0</th>\n",
       "      <td>7956414</td>\n",
       "      <td>1</td>\n",
       "      <td>0.154537</td>\n",
       "      <td>0.845463</td>\n",
       "      <td>1</td>\n",
       "      <td>1</td>\n",
       "    </tr>\n",
       "    <tr>\n",
       "      <th>1</th>\n",
       "      <td>9152143</td>\n",
       "      <td>0</td>\n",
       "      <td>0.937056</td>\n",
       "      <td>0.062945</td>\n",
       "      <td>0</td>\n",
       "      <td>0</td>\n",
       "    </tr>\n",
       "    <tr>\n",
       "      <th>2</th>\n",
       "      <td>10595982</td>\n",
       "      <td>1</td>\n",
       "      <td>0.019109</td>\n",
       "      <td>0.980891</td>\n",
       "      <td>1</td>\n",
       "      <td>1</td>\n",
       "    </tr>\n",
       "    <tr>\n",
       "      <th>3</th>\n",
       "      <td>9482134</td>\n",
       "      <td>0</td>\n",
       "      <td>0.294298</td>\n",
       "      <td>0.705702</td>\n",
       "      <td>1</td>\n",
       "      <td>1</td>\n",
       "    </tr>\n",
       "    <tr>\n",
       "      <th>4</th>\n",
       "      <td>9238157</td>\n",
       "      <td>0</td>\n",
       "      <td>0.989753</td>\n",
       "      <td>0.010247</td>\n",
       "      <td>0</td>\n",
       "      <td>0</td>\n",
       "    </tr>\n",
       "    <tr>\n",
       "      <th>...</th>\n",
       "      <td>...</td>\n",
       "      <td>...</td>\n",
       "      <td>...</td>\n",
       "      <td>...</td>\n",
       "      <td>...</td>\n",
       "      <td>...</td>\n",
       "    </tr>\n",
       "    <tr>\n",
       "      <th>19995</th>\n",
       "      <td>8763685</td>\n",
       "      <td>1</td>\n",
       "      <td>0.016201</td>\n",
       "      <td>0.983799</td>\n",
       "      <td>1</td>\n",
       "      <td>1</td>\n",
       "    </tr>\n",
       "    <tr>\n",
       "      <th>19996</th>\n",
       "      <td>11377777</td>\n",
       "      <td>0</td>\n",
       "      <td>0.996489</td>\n",
       "      <td>0.003511</td>\n",
       "      <td>0</td>\n",
       "      <td>0</td>\n",
       "    </tr>\n",
       "    <tr>\n",
       "      <th>19997</th>\n",
       "      <td>9074085</td>\n",
       "      <td>1</td>\n",
       "      <td>0.006779</td>\n",
       "      <td>0.993221</td>\n",
       "      <td>1</td>\n",
       "      <td>1</td>\n",
       "    </tr>\n",
       "    <tr>\n",
       "      <th>19998</th>\n",
       "      <td>9398109</td>\n",
       "      <td>1</td>\n",
       "      <td>0.027539</td>\n",
       "      <td>0.972461</td>\n",
       "      <td>1</td>\n",
       "      <td>1</td>\n",
       "    </tr>\n",
       "    <tr>\n",
       "      <th>19999</th>\n",
       "      <td>8672394</td>\n",
       "      <td>1</td>\n",
       "      <td>0.024661</td>\n",
       "      <td>0.975339</td>\n",
       "      <td>1</td>\n",
       "      <td>1</td>\n",
       "    </tr>\n",
       "  </tbody>\n",
       "</table>\n",
       "<p>20000 rows × 6 columns</p>\n",
       "</div>"
      ],
      "text/plain": [
       "             ID  OBJECT_TYPE  predicted_float_Real  predicted_float_Bogus  \\\n",
       "0       7956414            1              0.154537               0.845463   \n",
       "1       9152143            0              0.937056               0.062945   \n",
       "2      10595982            1              0.019109               0.980891   \n",
       "3       9482134            0              0.294298               0.705702   \n",
       "4       9238157            0              0.989753               0.010247   \n",
       "...         ...          ...                   ...                    ...   \n",
       "19995   8763685            1              0.016201               0.983799   \n",
       "19996  11377777            0              0.996489               0.003511   \n",
       "19997   9074085            1              0.006779               0.993221   \n",
       "19998   9398109            1              0.027539               0.972461   \n",
       "19999   8672394            1              0.024661               0.975339   \n",
       "\n",
       "       predicted  new_pred  \n",
       "0              1         1  \n",
       "1              0         0  \n",
       "2              1         1  \n",
       "3              1         1  \n",
       "4              0         0  \n",
       "...          ...       ...  \n",
       "19995          1         1  \n",
       "19996          0         0  \n",
       "19997          1         1  \n",
       "19998          1         1  \n",
       "19999          1         1  \n",
       "\n",
       "[20000 rows x 6 columns]"
      ]
     },
     "execution_count": 15,
     "metadata": {},
     "output_type": "execute_result"
    }
   ],
   "source": [
    "df_te"
   ]
  },
  {
   "cell_type": "code",
   "execution_count": 10,
   "id": "5baabadc-d328-44c0-aea1-b722f0329ea8",
   "metadata": {},
   "outputs": [
    {
     "ename": "KeyError",
     "evalue": "'new_pred'",
     "output_type": "error",
     "traceback": [
      "\u001b[0;31m---------------------------------------------------------------------------\u001b[0m",
      "\u001b[0;31mKeyError\u001b[0m                                  Traceback (most recent call last)",
      "\u001b[0;32m~/.conda/envs/tff1/lib/python3.7/site-packages/pandas/core/indexes/base.py\u001b[0m in \u001b[0;36mget_loc\u001b[0;34m(self, key, method, tolerance)\u001b[0m\n\u001b[1;32m   3079\u001b[0m             \u001b[0;32mtry\u001b[0m\u001b[0;34m:\u001b[0m\u001b[0;34m\u001b[0m\u001b[0;34m\u001b[0m\u001b[0m\n\u001b[0;32m-> 3080\u001b[0;31m                 \u001b[0;32mreturn\u001b[0m \u001b[0mself\u001b[0m\u001b[0;34m.\u001b[0m\u001b[0m_engine\u001b[0m\u001b[0;34m.\u001b[0m\u001b[0mget_loc\u001b[0m\u001b[0;34m(\u001b[0m\u001b[0mcasted_key\u001b[0m\u001b[0;34m)\u001b[0m\u001b[0;34m\u001b[0m\u001b[0;34m\u001b[0m\u001b[0m\n\u001b[0m\u001b[1;32m   3081\u001b[0m             \u001b[0;32mexcept\u001b[0m \u001b[0mKeyError\u001b[0m \u001b[0;32mas\u001b[0m \u001b[0merr\u001b[0m\u001b[0;34m:\u001b[0m\u001b[0;34m\u001b[0m\u001b[0;34m\u001b[0m\u001b[0m\n",
      "\u001b[0;32mpandas/_libs/index.pyx\u001b[0m in \u001b[0;36mpandas._libs.index.IndexEngine.get_loc\u001b[0;34m()\u001b[0m\n",
      "\u001b[0;32mpandas/_libs/index.pyx\u001b[0m in \u001b[0;36mpandas._libs.index.IndexEngine.get_loc\u001b[0;34m()\u001b[0m\n",
      "\u001b[0;32mpandas/_libs/hashtable_class_helper.pxi\u001b[0m in \u001b[0;36mpandas._libs.hashtable.PyObjectHashTable.get_item\u001b[0;34m()\u001b[0m\n",
      "\u001b[0;32mpandas/_libs/hashtable_class_helper.pxi\u001b[0m in \u001b[0;36mpandas._libs.hashtable.PyObjectHashTable.get_item\u001b[0;34m()\u001b[0m\n",
      "\u001b[0;31mKeyError\u001b[0m: 'new_pred'",
      "\nThe above exception was the direct cause of the following exception:\n",
      "\u001b[0;31mKeyError\u001b[0m                                  Traceback (most recent call last)",
      "\u001b[0;32m<ipython-input-10-3a8e8fad6fda>\u001b[0m in \u001b[0;36m<module>\u001b[0;34m\u001b[0m\n\u001b[0;32m----> 1\u001b[0;31m \u001b[0mtf\u001b[0m\u001b[0;34m.\u001b[0m\u001b[0mmath\u001b[0m\u001b[0;34m.\u001b[0m\u001b[0mconfusion_matrix\u001b[0m\u001b[0;34m(\u001b[0m\u001b[0mlabels\u001b[0m\u001b[0;34m=\u001b[0m\u001b[0mtest_targ\u001b[0m\u001b[0;34m,\u001b[0m \u001b[0mpredictions\u001b[0m\u001b[0;34m=\u001b[0m\u001b[0mdf_te\u001b[0m\u001b[0;34m[\u001b[0m\u001b[0;34m\"new_pred\"\u001b[0m\u001b[0;34m]\u001b[0m\u001b[0;34m)\u001b[0m\u001b[0;34m.\u001b[0m\u001b[0mnumpy\u001b[0m\u001b[0;34m(\u001b[0m\u001b[0;34m)\u001b[0m\u001b[0;34m\u001b[0m\u001b[0;34m\u001b[0m\u001b[0m\n\u001b[0m",
      "\u001b[0;32m~/.conda/envs/tff1/lib/python3.7/site-packages/pandas/core/frame.py\u001b[0m in \u001b[0;36m__getitem__\u001b[0;34m(self, key)\u001b[0m\n\u001b[1;32m   3022\u001b[0m             \u001b[0;32mif\u001b[0m \u001b[0mself\u001b[0m\u001b[0;34m.\u001b[0m\u001b[0mcolumns\u001b[0m\u001b[0;34m.\u001b[0m\u001b[0mnlevels\u001b[0m \u001b[0;34m>\u001b[0m \u001b[0;36m1\u001b[0m\u001b[0;34m:\u001b[0m\u001b[0;34m\u001b[0m\u001b[0;34m\u001b[0m\u001b[0m\n\u001b[1;32m   3023\u001b[0m                 \u001b[0;32mreturn\u001b[0m \u001b[0mself\u001b[0m\u001b[0;34m.\u001b[0m\u001b[0m_getitem_multilevel\u001b[0m\u001b[0;34m(\u001b[0m\u001b[0mkey\u001b[0m\u001b[0;34m)\u001b[0m\u001b[0;34m\u001b[0m\u001b[0;34m\u001b[0m\u001b[0m\n\u001b[0;32m-> 3024\u001b[0;31m             \u001b[0mindexer\u001b[0m \u001b[0;34m=\u001b[0m \u001b[0mself\u001b[0m\u001b[0;34m.\u001b[0m\u001b[0mcolumns\u001b[0m\u001b[0;34m.\u001b[0m\u001b[0mget_loc\u001b[0m\u001b[0;34m(\u001b[0m\u001b[0mkey\u001b[0m\u001b[0;34m)\u001b[0m\u001b[0;34m\u001b[0m\u001b[0;34m\u001b[0m\u001b[0m\n\u001b[0m\u001b[1;32m   3025\u001b[0m             \u001b[0;32mif\u001b[0m \u001b[0mis_integer\u001b[0m\u001b[0;34m(\u001b[0m\u001b[0mindexer\u001b[0m\u001b[0;34m)\u001b[0m\u001b[0;34m:\u001b[0m\u001b[0;34m\u001b[0m\u001b[0;34m\u001b[0m\u001b[0m\n\u001b[1;32m   3026\u001b[0m                 \u001b[0mindexer\u001b[0m \u001b[0;34m=\u001b[0m \u001b[0;34m[\u001b[0m\u001b[0mindexer\u001b[0m\u001b[0;34m]\u001b[0m\u001b[0;34m\u001b[0m\u001b[0;34m\u001b[0m\u001b[0m\n",
      "\u001b[0;32m~/.conda/envs/tff1/lib/python3.7/site-packages/pandas/core/indexes/base.py\u001b[0m in \u001b[0;36mget_loc\u001b[0;34m(self, key, method, tolerance)\u001b[0m\n\u001b[1;32m   3080\u001b[0m                 \u001b[0;32mreturn\u001b[0m \u001b[0mself\u001b[0m\u001b[0;34m.\u001b[0m\u001b[0m_engine\u001b[0m\u001b[0;34m.\u001b[0m\u001b[0mget_loc\u001b[0m\u001b[0;34m(\u001b[0m\u001b[0mcasted_key\u001b[0m\u001b[0;34m)\u001b[0m\u001b[0;34m\u001b[0m\u001b[0;34m\u001b[0m\u001b[0m\n\u001b[1;32m   3081\u001b[0m             \u001b[0;32mexcept\u001b[0m \u001b[0mKeyError\u001b[0m \u001b[0;32mas\u001b[0m \u001b[0merr\u001b[0m\u001b[0;34m:\u001b[0m\u001b[0;34m\u001b[0m\u001b[0;34m\u001b[0m\u001b[0m\n\u001b[0;32m-> 3082\u001b[0;31m                 \u001b[0;32mraise\u001b[0m \u001b[0mKeyError\u001b[0m\u001b[0;34m(\u001b[0m\u001b[0mkey\u001b[0m\u001b[0;34m)\u001b[0m \u001b[0;32mfrom\u001b[0m \u001b[0merr\u001b[0m\u001b[0;34m\u001b[0m\u001b[0;34m\u001b[0m\u001b[0m\n\u001b[0m\u001b[1;32m   3083\u001b[0m \u001b[0;34m\u001b[0m\u001b[0m\n\u001b[1;32m   3084\u001b[0m         \u001b[0;32mif\u001b[0m \u001b[0mtolerance\u001b[0m \u001b[0;32mis\u001b[0m \u001b[0;32mnot\u001b[0m \u001b[0;32mNone\u001b[0m\u001b[0;34m:\u001b[0m\u001b[0;34m\u001b[0m\u001b[0;34m\u001b[0m\u001b[0m\n",
      "\u001b[0;31mKeyError\u001b[0m: 'new_pred'"
     ]
    }
   ],
   "source": [
    "tf.math.confusion_matrix(labels=test_targ, predictions=df_te[\"new_pred\"]).numpy()\n"
   ]
  },
  {
   "cell_type": "code",
   "execution_count": null,
   "id": "90475268-5ea0-4cfa-a175-5d2343853504",
   "metadata": {},
   "outputs": [],
   "source": [
    "con_mat = tf.math.confusion_matrix(labels=test_targ, predictions=df_te[\"new_pred\"]).numpy()\n",
    "con_mat.flatten()\n",
    "con_mat_norm = np.around(con_mat.astype('float') / con_mat.sum(axis=1)[:, np.newaxis], decimals=2)\n",
    "con_mat_df = pd.DataFrame(con_mat_norm,\n",
    "                 index = [0,1], \n",
    "                 columns = [0,1])\n",
    "con_mat_df"
   ]
  },
  {
   "cell_type": "code",
   "execution_count": null,
   "id": "9a91030b-2f40-48e8-9c33-67dabb038987",
   "metadata": {},
   "outputs": [],
   "source": [
    "import matplotlib\n",
    "cmap = matplotlib.cm.get_cmap('Pastel2')"
   ]
  },
  {
   "cell_type": "code",
   "execution_count": null,
   "id": "d9962d13-4e41-410c-880f-69754eddda77",
   "metadata": {},
   "outputs": [],
   "source": [
    "rgba = cmap(0.1,bytes=True)"
   ]
  },
  {
   "cell_type": "code",
   "execution_count": null,
   "id": "155f4827-4233-4bbc-860f-df550f69aca7",
   "metadata": {},
   "outputs": [],
   "source": [
    "rgba"
   ]
  },
  {
   "cell_type": "code",
   "execution_count": null,
   "id": "b9bd30f7-219f-4303-96a5-c551a8da0959",
   "metadata": {},
   "outputs": [],
   "source": [
    "#b3e2cd >> green Confusion\n",
    "#40004b >> purple divergent\n",
    "#1a7636 >> green divergent"
   ]
  },
  {
   "cell_type": "code",
   "execution_count": 11,
   "id": "fb1fcba4-319f-460a-a74a-91cb5164037c",
   "metadata": {},
   "outputs": [
    {
     "name": "stdout",
     "output_type": "stream",
     "text": [
      "AAAD_3s3DH\n",
      "../data/data_split_3s/\n",
      "Done with 0\n",
      "Done with 1\n",
      "Done with 2\n",
      "Done with 3\n",
      "Done with 4\n",
      "Done with 5\n",
      "Done with 6\n",
      "Done with 7\n",
      "Done with 8\n",
      "Done with 9\n",
      "(10, 51, 153) (20000, 51, 153)\n",
      "AAAD_3s3DH\n",
      "Training accuracy : 0.6000\n",
      "Testing accuracy  : 0.9590\n"
     ]
    },
    {
     "data": {
      "image/png": "[encoded data removed]",
      "text/plain": [
       "<Figure size 288x360 with 1 Axes>"
      ]
     },
     "metadata": {
      "needs_background": "light"
     },
     "output_type": "display_data"
    }
   ],
   "source": [
    "df_tr = pd.DataFrame()\n",
    "df_te = pd.DataFrame()\n",
    "\n",
    "df_te,con_mat_df_te, y_pred_test = datas(df_tr, df_te, \"AAAD_3s3DH\")"
   ]
  },
  {
   "cell_type": "code",
   "execution_count": 12,
   "id": "0c56050a-c3b9-4fc8-af5a-0c935ccd8fa1",
   "metadata": {},
   "outputs": [],
   "source": [
    "test_targ = df_te[\"OBJECT_TYPE\"].to_numpy()\n",
    "y_pred_test = df_te[\"predicted_float_Bogus\"].to_numpy()"
   ]
  },
  {
   "cell_type": "code",
   "execution_count": 13,
   "id": "3cec76ce-7999-4f1e-85ba-56f56bf86354",
   "metadata": {},
   "outputs": [],
   "source": [
    "false_positive_rate, true_positive_rate, threshold = roc_curve(test_targ, y_pred_test)"
   ]
  },
  {
   "cell_type": "code",
   "execution_count": 14,
   "id": "e71f9085-eca6-48f4-8c0a-cdf59bc5b222",
   "metadata": {},
   "outputs": [
    {
     "data": {
      "image/png": "[encoded data removed]",
      "text/plain": [
       "<Figure size 504x360 with 1 Axes>"
      ]
     },
     "metadata": {
      "needs_background": "light"
     },
     "output_type": "display_data"
    }
   ],
   "source": [
    "plt.subplots(1, figsize=(7,5))\n",
    "plt.title('ROC curve for test data set',fontsize = 15)\n",
    "plt.plot(false_positive_rate, true_positive_rate, color=\"#1a7636\")\n",
    "plt.plot([0, 1], ls=\"--\", color = \"#b3e2cd\")\n",
    "# plt.plot([0, 0], [1, 0] , c=\".7\"), plt.plot([1, 1] , c=\".7\")\n",
    "plt.ylabel('True Positive Rate',fontsize = 15)\n",
    "plt.xlabel('False Positive Rate',fontsize = 15)\n",
    "plt.xticks(fontsize = 15)\n",
    "plt.yticks(fontsize = 15)\n",
    "plt.xlim(-0.01,1)\n",
    "plt.ylim(-0.01,1.01)\n",
    "# plt.savefig(\"ROC3D.pdf\")\n",
    "plt.show()"
   ]
  },
  {
   "cell_type": "code",
   "execution_count": null,
   "id": "61209e75-0ef5-4f68-b721-982febaa6375",
   "metadata": {},
   "outputs": [],
   "source": [
    "roc_auc_score(test_targ, y_pred_test)"
   ]
  },
  {
   "cell_type": "code",
   "execution_count": 15,
   "id": "28646926-3cd9-4cfd-913b-c6b60741597c",
   "metadata": {},
   "outputs": [
    {
     "name": "stderr",
     "output_type": "stream",
     "text": [
      "/global/homes/t/taceroc/.conda/envs/tff1/lib/python3.7/site-packages/ipykernel_launcher.py:3: MatplotlibDeprecationWarning: \n",
      "The mpl_toolkits.axes_grid module was deprecated in Matplotlib 2.1 and will be removed two minor releases later. Use mpl_toolkits.axes_grid1 and mpl_toolkits.axisartist, which provide the same functionality instead.\n",
      "  This is separate from the ipykernel package so we can avoid doing imports until\n"
     ]
    }
   ],
   "source": [
    "from mpl_toolkits.axes_grid1.inset_locator import zoomed_inset_axes\n",
    "from mpl_toolkits.axes_grid1.inset_locator import mark_inset\n",
    "from mpl_toolkits.axes_grid.inset_locator import InsetPosition"
   ]
  },
  {
   "cell_type": "code",
   "execution_count": 25,
   "id": "af34290e-de6f-4f5e-ba31-81c10f9c3778",
   "metadata": {},
   "outputs": [
    {
     "data": {
      "image/png": "[encoded data removed]",
      "text/plain": [
       "<Figure size 576x576 with 2 Axes>"
      ]
     },
     "metadata": {
      "needs_background": "light"
     },
     "output_type": "display_data"
    }
   ],
   "source": [
    "fig, ax = plt.subplots(1, figsize=(8,8))\n",
    "ax.set_title('ROC curve for test data set',fontsize = 15)\n",
    "ax.plot(false_positive_rate, true_positive_rate, color=\"#465eb4\", label=\"DIA\")\n",
    "ax.plot(false_positive_rate1, true_positive_rate1, color=\"#ffb04b\", label=\"noDIA\")\n",
    "ax.plot([0, 1], ls=\"--\", color = \"#b3e2cd\")\n",
    "# plt.plot([0, 0], [1, 0] , c=\".7\"), plt.plot([1, 1] , c=\".7\")\n",
    "ax.set_ylabel('True Positive Rate',fontsize = 15)\n",
    "ax.set_xlabel('False Positive Rate',fontsize = 15)\n",
    "# ax.set_xticks(fontsize = 15)\n",
    "# ax.set_yticks(fontsize = 15)\n",
    "ax.tick_params(axis = 'both', which = 'major', labelsize = 15)\n",
    "ax.set_xlim(-0.01,1.01)\n",
    "ax.set_ylim(-0.01,1.01)\n",
    "ax.set_aspect('equal', adjustable='box')\n",
    "plt.legend(fontsize = 14, loc='upper center')\n",
    "\n",
    "zax = zoomed_inset_axes(ax, 1, loc=2, axes_kwargs = {\"box_aspect\":1}, borderpad=2)\n",
    "# zax.set_title('ROC curve for test data set',fontsize = 15)\n",
    "# ax2 = plt.axes([0,0,1,1])\n",
    "# Manually set the position and relative size of the inset axes within ax1\n",
    "ip = InsetPosition(ax, [0.5,0.1,0.5,0.4]) # last one is the relative size\n",
    "zax.set_axes_locator(ip)\n",
    "zax.plot(false_positive_rate, true_positive_rate, color=\"#465eb4\", label=\"DIA\")\n",
    "zax.plot(false_positive_rate1, true_positive_rate1, color=\"#ffb04b\", label=\"noDIA\")\n",
    "zax.plot([0, 1], ls=\"--\", color = \"#b3e2cd\")\n",
    "# zax.set_ylabel('True Positive Rate',fontsize = 15)\n",
    "# zax.set_xlabel('False Positive Rate',fontsize = 15)\n",
    "# zax.tick_params(axis = 'both', which = 'major', labelsize = 15)\n",
    "\n",
    "zax.set_xlim((0.1, 0.15)); zax.set_xticks((0, 0.15))\n",
    "zax.set_ylim((0.75, 1)) ; zax.set_yticks((0.75, 1))\n",
    "zax.patch.set_alpha(0)\n",
    "mark_inset(ax, zax, loc1=2, loc2=1, fc=\"none\", ec=\"0.7\", ls=\"-.\")\n",
    "# plt.show()\n",
    "# plt.show()\n",
    "plt.savefig(\"ROC_zoom.pdf\")\n"
   ]
  },
  {
   "cell_type": "code",
   "execution_count": 156,
   "id": "8e6eb8d9-aacb-4c2b-bb19-8bf1b59d4671",
   "metadata": {},
   "outputs": [
    {
     "data": {
      "text/plain": [
       "\u001b[0;31mSignature:\u001b[0m \u001b[0mmark_inset\u001b[0m\u001b[0;34m(\u001b[0m\u001b[0mparent_axes\u001b[0m\u001b[0;34m,\u001b[0m \u001b[0minset_axes\u001b[0m\u001b[0;34m,\u001b[0m \u001b[0mloc1\u001b[0m\u001b[0;34m,\u001b[0m \u001b[0mloc2\u001b[0m\u001b[0;34m,\u001b[0m \u001b[0;34m**\u001b[0m\u001b[0mkwargs\u001b[0m\u001b[0;34m)\u001b[0m\u001b[0;34m\u001b[0m\u001b[0;34m\u001b[0m\u001b[0m\n",
       "\u001b[0;31mDocstring:\u001b[0m\n",
       "Draw a box to mark the location of an area represented by an inset axes.\n",
       "\n",
       "This function draws a box in *parent_axes* at the bounding box of\n",
       "*inset_axes*, and shows a connection with the inset axes by drawing lines\n",
       "at the corners, giving a \"zoomed in\" effect.\n",
       "\n",
       "Parameters\n",
       "----------\n",
       "parent_axes : `matplotlib.axes.Axes`\n",
       "    Axes which contains the area of the inset axes.\n",
       "\n",
       "inset_axes : `matplotlib.axes.Axes`\n",
       "    The inset axes.\n",
       "\n",
       "loc1, loc2 : {1, 2, 3, 4}\n",
       "    Corners to use for connecting the inset axes and the area in the\n",
       "    parent axes.\n",
       "\n",
       "**kwargs\n",
       "    Patch properties for the lines and box drawn:\n",
       "\n",
       "    Properties:\n",
       "    agg_filter: a filter function, which takes a (m, n, 3) float array and a dpi value, and returns a (m, n, 3) array\n",
       "    alpha: float or None\n",
       "    animated: bool\n",
       "    antialiased or aa: unknown\n",
       "    capstyle: {'butt', 'round', 'projecting'}\n",
       "    clip_box: `.Bbox`\n",
       "    clip_on: bool\n",
       "    clip_path: Patch or (Path, Transform) or None\n",
       "    color: color\n",
       "    contains: unknown\n",
       "    edgecolor or ec: color or None or 'auto'\n",
       "    facecolor or fc: color or None\n",
       "    figure: `.Figure`\n",
       "    fill: bool\n",
       "    gid: str\n",
       "    hatch: {'/', '\\\\', '|', '-', '+', 'x', 'o', 'O', '.', '*'}\n",
       "    in_layout: bool\n",
       "    joinstyle: {'miter', 'round', 'bevel'}\n",
       "    label: object\n",
       "    linestyle or ls: {'-', '--', '-.', ':', '', (offset, on-off-seq), ...}\n",
       "    linewidth or lw: float or None\n",
       "    path_effects: `.AbstractPathEffect`\n",
       "    picker: None or bool or callable\n",
       "    rasterized: bool or None\n",
       "    sketch_params: (scale: float, length: float, randomness: float)\n",
       "    snap: bool or None\n",
       "    transform: `.Transform`\n",
       "    url: str\n",
       "    visible: bool\n",
       "    zorder: float\n",
       "\n",
       "Returns\n",
       "-------\n",
       "pp : `matplotlib.patches.Patch`\n",
       "    The patch drawn to represent the area of the inset axes.\n",
       "\n",
       "p1, p2 : `matplotlib.patches.Patch`\n",
       "    The patches connecting two corners of the inset axes and its area.\n",
       "\u001b[0;31mFile:\u001b[0m      ~/.conda/envs/tff1/lib/python3.7/site-packages/mpl_toolkits/axes_grid1/inset_locator.py\n",
       "\u001b[0;31mType:\u001b[0m      function\n"
      ]
     },
     "metadata": {},
     "output_type": "display_data"
    }
   ],
   "source": [
    "mark_inset?"
   ]
  },
  {
   "cell_type": "code",
   "execution_count": 33,
   "id": "08aa0ba7-fa4d-4754-a583-75099904be0e",
   "metadata": {},
   "outputs": [],
   "source": [
    "# now, create an inset axis, in the upper right corner, with\n",
    "# a zoom factor of two\n"
   ]
  },
  {
   "cell_type": "code",
   "execution_count": 46,
   "id": "9d99cdc1-7dd9-4c2d-9fa5-32cb380004f7",
   "metadata": {},
   "outputs": [
    {
     "data": {
      "text/plain": [
       "\u001b[0;31mSignature:\u001b[0m\n",
       "\u001b[0mzoomed_inset_axes\u001b[0m\u001b[0;34m(\u001b[0m\u001b[0;34m\u001b[0m\n",
       "\u001b[0;34m\u001b[0m    \u001b[0mparent_axes\u001b[0m\u001b[0;34m,\u001b[0m\u001b[0;34m\u001b[0m\n",
       "\u001b[0;34m\u001b[0m    \u001b[0mzoom\u001b[0m\u001b[0;34m,\u001b[0m\u001b[0;34m\u001b[0m\n",
       "\u001b[0;34m\u001b[0m    \u001b[0mloc\u001b[0m\u001b[0;34m=\u001b[0m\u001b[0;34m'upper right'\u001b[0m\u001b[0;34m,\u001b[0m\u001b[0;34m\u001b[0m\n",
       "\u001b[0;34m\u001b[0m    \u001b[0mbbox_to_anchor\u001b[0m\u001b[0;34m=\u001b[0m\u001b[0;32mNone\u001b[0m\u001b[0;34m,\u001b[0m\u001b[0;34m\u001b[0m\n",
       "\u001b[0;34m\u001b[0m    \u001b[0mbbox_transform\u001b[0m\u001b[0;34m=\u001b[0m\u001b[0;32mNone\u001b[0m\u001b[0;34m,\u001b[0m\u001b[0;34m\u001b[0m\n",
       "\u001b[0;34m\u001b[0m    \u001b[0maxes_class\u001b[0m\u001b[0;34m=\u001b[0m\u001b[0;32mNone\u001b[0m\u001b[0;34m,\u001b[0m\u001b[0;34m\u001b[0m\n",
       "\u001b[0;34m\u001b[0m    \u001b[0maxes_kwargs\u001b[0m\u001b[0;34m=\u001b[0m\u001b[0;32mNone\u001b[0m\u001b[0;34m,\u001b[0m\u001b[0;34m\u001b[0m\n",
       "\u001b[0;34m\u001b[0m    \u001b[0mborderpad\u001b[0m\u001b[0;34m=\u001b[0m\u001b[0;36m0.5\u001b[0m\u001b[0;34m,\u001b[0m\u001b[0;34m\u001b[0m\n",
       "\u001b[0;34m\u001b[0m\u001b[0;34m)\u001b[0m\u001b[0;34m\u001b[0m\u001b[0;34m\u001b[0m\u001b[0m\n",
       "\u001b[0;31mDocstring:\u001b[0m\n",
       "Create an anchored inset axes by scaling a parent axes. For usage, also see\n",
       ":doc:`the examples </gallery/axes_grid1/inset_locator_demo2>`.\n",
       "\n",
       "Parameters\n",
       "----------\n",
       "parent_axes : `matplotlib.axes.Axes`\n",
       "    Axes to place the inset axes.\n",
       "\n",
       "zoom : float\n",
       "    Scaling factor of the data axes. *zoom* > 1 will enlargen the\n",
       "    coordinates (i.e., \"zoomed in\"), while *zoom* < 1 will shrink the\n",
       "    coordinates (i.e., \"zoomed out\").\n",
       "\n",
       "loc : int or str, default: 'upper right'\n",
       "    Location to place the inset axes. The valid locations are::\n",
       "\n",
       "        'upper right'  : 1,\n",
       "        'upper left'   : 2,\n",
       "        'lower left'   : 3,\n",
       "        'lower right'  : 4,\n",
       "        'right'        : 5,\n",
       "        'center left'  : 6,\n",
       "        'center right' : 7,\n",
       "        'lower center' : 8,\n",
       "        'upper center' : 9,\n",
       "        'center'       : 10\n",
       "\n",
       "bbox_to_anchor : tuple or `matplotlib.transforms.BboxBase`, optional\n",
       "    Bbox that the inset axes will be anchored to. If None,\n",
       "    *parent_axes.bbox* is used. If a tuple, can be either\n",
       "    [left, bottom, width, height], or [left, bottom].\n",
       "    If the kwargs *width* and/or *height* are specified in relative units,\n",
       "    the 2-tuple [left, bottom] cannot be used. Note that\n",
       "    the units of the bounding box are determined through the transform\n",
       "    in use. When using *bbox_to_anchor* it almost always makes sense to\n",
       "    also specify a *bbox_transform*. This might often be the axes transform\n",
       "    *parent_axes.transAxes*.\n",
       "\n",
       "bbox_transform : `matplotlib.transforms.Transform`, optional\n",
       "    Transformation for the bbox that contains the inset axes.\n",
       "    If None, a `.transforms.IdentityTransform` is used (i.e. pixel\n",
       "    coordinates). This is useful when not providing any argument to\n",
       "    *bbox_to_anchor*. When using *bbox_to_anchor* it almost always makes\n",
       "    sense to also specify a *bbox_transform*. This might often be the\n",
       "    axes transform *parent_axes.transAxes*. Inversely, when specifying\n",
       "    the axes- or figure-transform here, be aware that not specifying\n",
       "    *bbox_to_anchor* will use *parent_axes.bbox*, the units of which are\n",
       "    in display (pixel) coordinates.\n",
       "\n",
       "axes_class : `matplotlib.axes.Axes` type, optional\n",
       "    If specified, the inset axes created will be created with this class's\n",
       "    constructor.\n",
       "\n",
       "axes_kwargs : dict, optional\n",
       "    Keyworded arguments to pass to the constructor of the inset axes.\n",
       "    Valid arguments include:\n",
       "\n",
       "    Properties:\n",
       "    adjustable: {'box', 'datalim'}\n",
       "    agg_filter: a filter function, which takes a (m, n, 3) float array and a dpi value, and returns a (m, n, 3) array\n",
       "    alpha: float or None\n",
       "    anchor: 2-tuple of floats or {'C', 'SW', 'S', 'SE', ...}\n",
       "    animated: bool\n",
       "    aspect: {'auto'} or num\n",
       "    autoscale_on: bool\n",
       "    autoscalex_on: bool\n",
       "    autoscaley_on: bool\n",
       "    axes_locator: Callable[[Axes, Renderer], Bbox]\n",
       "    axisbelow: bool or 'line'\n",
       "    box_aspect: None, or a number\n",
       "    clip_box: `.Bbox`\n",
       "    clip_on: bool\n",
       "    clip_path: Patch or (Path, Transform) or None\n",
       "    contains: unknown\n",
       "    facecolor or fc: color\n",
       "    figure: `.Figure`\n",
       "    frame_on: bool\n",
       "    gid: str\n",
       "    in_layout: bool\n",
       "    label: object\n",
       "    navigate: bool\n",
       "    navigate_mode: unknown\n",
       "    path_effects: `.AbstractPathEffect`\n",
       "    picker: None or bool or callable\n",
       "    position: [left, bottom, width, height] or `~matplotlib.transforms.Bbox`\n",
       "    prop_cycle: unknown\n",
       "    rasterization_zorder: float or None\n",
       "    rasterized: bool or None\n",
       "    sketch_params: (scale: float, length: float, randomness: float)\n",
       "    snap: bool or None\n",
       "    title: str\n",
       "    transform: `.Transform`\n",
       "    url: str\n",
       "    visible: bool\n",
       "    xbound: unknown\n",
       "    xlabel: str\n",
       "    xlim: (bottom: float, top: float)\n",
       "    xmargin: float greater than -0.5\n",
       "    xscale: {\"linear\", \"log\", \"symlog\", \"logit\", ...}\n",
       "    xticklabels: unknown\n",
       "    xticks: unknown\n",
       "    ybound: unknown\n",
       "    ylabel: str\n",
       "    ylim: (bottom: float, top: float)\n",
       "    ymargin: float greater than -0.5\n",
       "    yscale: {\"linear\", \"log\", \"symlog\", \"logit\", ...}\n",
       "    yticklabels: unknown\n",
       "    yticks: unknown\n",
       "    zorder: float\n",
       "\n",
       "borderpad : float, default: 0.5\n",
       "    Padding between inset axes and the bbox_to_anchor.\n",
       "    The units are axes font size, i.e. for a default font size of 10 points\n",
       "    *borderpad = 0.5* is equivalent to a padding of 5 points.\n",
       "\n",
       "Returns\n",
       "-------\n",
       "inset_axes : *axes_class*\n",
       "    Inset axes object created.\n",
       "\u001b[0;31mFile:\u001b[0m      ~/.conda/envs/tff1/lib/python3.7/site-packages/mpl_toolkits/axes_grid1/inset_locator.py\n",
       "\u001b[0;31mType:\u001b[0m      function\n"
      ]
     },
     "metadata": {},
     "output_type": "display_data"
    }
   ],
   "source": [
    "zoomed_inset_axes?"
   ]
  },
  {
   "cell_type": "code",
   "execution_count": 38,
   "id": "0a6507af-b8ed-4572-9a6e-8c5e05dd0dd0",
   "metadata": {},
   "outputs": [],
   "source": []
  },
  {
   "cell_type": "code",
   "execution_count": 10,
   "id": "9c5a1e0b-52b9-4a6d-88c9-f515c99f95a8",
   "metadata": {},
   "outputs": [
    {
     "data": {
      "text/plain": [
       "955"
      ]
     },
     "execution_count": 10,
     "metadata": {},
     "output_type": "execute_result"
    }
   ],
   "source": [
    "np.argmax(true_positive_rate1-false_positive_rate1) "
   ]
  },
  {
   "cell_type": "code",
   "execution_count": 11,
   "id": "b842a795-70e4-4f9c-ae7b-02a03c844460",
   "metadata": {},
   "outputs": [
    {
     "data": {
      "text/plain": [
       "0.49511144"
      ]
     },
     "execution_count": 11,
     "metadata": {},
     "output_type": "execute_result"
    }
   ],
   "source": [
    "threshold1[955]"
   ]
  },
  {
   "cell_type": "code",
   "execution_count": null,
   "id": "48502680-0069-4ef3-b473-46adbbb3000e",
   "metadata": {},
   "outputs": [],
   "source": []
  }
 ],
 "metadata": {
  "kernelspec": {
   "display_name": "tff-tac",
   "language": "python",
   "name": "tff1"
  },
  "language_info": {
   "codemirror_mode": {
    "name": "ipython",
    "version": 3
   },
   "file_extension": ".py",
   "mimetype": "text/x-python",
   "name": "python",
   "nbconvert_exporter": "python",
   "pygments_lexer": "ipython3",
   "version": "3.7.10"
  }
 },
 "nbformat": 4,
 "nbformat_minor": 5
}
